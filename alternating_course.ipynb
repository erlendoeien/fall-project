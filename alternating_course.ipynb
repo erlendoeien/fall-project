{
 "cells": [
  {
   "cell_type": "code",
   "execution_count": 1,
   "id": "4293aeb9-8c58-40b9-ba8d-9cb34c5ca694",
   "metadata": {},
   "outputs": [],
   "source": [
    "from constants import data_path, entities_path, relations_path, Path\n",
    "import pandas as pd\n",
    "import seaborn as sns\n",
    "import numpy as np"
   ]
  },
  {
   "cell_type": "code",
   "execution_count": 3,
   "id": "a6cd3be3-8702-415b-a1b4-1b5261c8bcc3",
   "metadata": {},
   "outputs": [],
   "source": [
    "courses_df = pd.read_json(entities_path / \"course.json\", lines=True)"
   ]
  },
  {
   "cell_type": "code",
   "execution_count": 5,
   "id": "e3fe8faf-b686-47d8-bdde-c601a5f25319",
   "metadata": {},
   "outputs": [],
   "source": [
    "courses_ext_df = pd.read_parquet(\"mooc_cube_x-100k/course_ext.parquet.gzip\")"
   ]
  },
  {
   "cell_type": "code",
   "execution_count": 15,
   "id": "4499d57b-c641-4b23-9f99-811d89b831ce",
   "metadata": {},
   "outputs": [],
   "source": [
    "course_resources = courses_ext_df[courses_ext_df[\"rsc_count\"] > 0].explode(\"resource\").drop(columns=\"about\")"
   ]
  },
  {
   "cell_type": "code",
   "execution_count": 17,
   "id": "a879b604-dba3-437f-8ed5-25250bd5f96f",
   "metadata": {},
   "outputs": [
    {
     "data": {
      "text/html": [
       "<div>\n",
       "<style scoped>\n",
       "    .dataframe tbody tr th:only-of-type {\n",
       "        vertical-align: middle;\n",
       "    }\n",
       "\n",
       "    .dataframe tbody tr th {\n",
       "        vertical-align: top;\n",
       "    }\n",
       "\n",
       "    .dataframe thead th {\n",
       "        text-align: right;\n",
       "    }\n",
       "</style>\n",
       "<table border=\"1\" class=\"dataframe\">\n",
       "  <thead>\n",
       "    <tr style=\"text-align: right;\">\n",
       "      <th></th>\n",
       "      <th>id</th>\n",
       "      <th>name</th>\n",
       "      <th>field</th>\n",
       "      <th>prerequisites</th>\n",
       "      <th>resource</th>\n",
       "      <th>rsc_count</th>\n",
       "      <th>num_fields</th>\n",
       "      <th>field_en</th>\n",
       "      <th>Number of users</th>\n",
       "    </tr>\n",
       "  </thead>\n",
       "  <tbody>\n",
       "    <tr>\n",
       "      <th>0</th>\n",
       "      <td>C_584313</td>\n",
       "      <td>《资治通鉴》导读</td>\n",
       "      <td>[历史学, 中国语言文学]</td>\n",
       "      <td>None</td>\n",
       "      <td>{'chapter': '1.1.1', 'resource_id': 'V_849', '...</td>\n",
       "      <td>91</td>\n",
       "      <td>2</td>\n",
       "      <td>[History, Chinese Language and Literature]</td>\n",
       "      <td>NaN</td>\n",
       "    </tr>\n",
       "    <tr>\n",
       "      <th>0</th>\n",
       "      <td>C_584313</td>\n",
       "      <td>《资治通鉴》导读</td>\n",
       "      <td>[历史学, 中国语言文学]</td>\n",
       "      <td>None</td>\n",
       "      <td>{'chapter': '1.2.1', 'resource_id': 'V_850', '...</td>\n",
       "      <td>91</td>\n",
       "      <td>2</td>\n",
       "      <td>[History, Chinese Language and Literature]</td>\n",
       "      <td>NaN</td>\n",
       "    </tr>\n",
       "    <tr>\n",
       "      <th>0</th>\n",
       "      <td>C_584313</td>\n",
       "      <td>《资治通鉴》导读</td>\n",
       "      <td>[历史学, 中国语言文学]</td>\n",
       "      <td>None</td>\n",
       "      <td>{'chapter': '1.3.1', 'resource_id': 'V_851', '...</td>\n",
       "      <td>91</td>\n",
       "      <td>2</td>\n",
       "      <td>[History, Chinese Language and Literature]</td>\n",
       "      <td>NaN</td>\n",
       "    </tr>\n",
       "    <tr>\n",
       "      <th>0</th>\n",
       "      <td>C_584313</td>\n",
       "      <td>《资治通鉴》导读</td>\n",
       "      <td>[历史学, 中国语言文学]</td>\n",
       "      <td>None</td>\n",
       "      <td>{'chapter': '1.4', 'resource_id': 'Ex_856', 't...</td>\n",
       "      <td>91</td>\n",
       "      <td>2</td>\n",
       "      <td>[History, Chinese Language and Literature]</td>\n",
       "      <td>NaN</td>\n",
       "    </tr>\n",
       "    <tr>\n",
       "      <th>0</th>\n",
       "      <td>C_584313</td>\n",
       "      <td>《资治通鉴》导读</td>\n",
       "      <td>[历史学, 中国语言文学]</td>\n",
       "      <td>None</td>\n",
       "      <td>{'chapter': '2.1.1', 'resource_id': 'V_857', '...</td>\n",
       "      <td>91</td>\n",
       "      <td>2</td>\n",
       "      <td>[History, Chinese Language and Literature]</td>\n",
       "      <td>NaN</td>\n",
       "    </tr>\n",
       "  </tbody>\n",
       "</table>\n",
       "</div>"
      ],
      "text/plain": [
       "         id      name          field prerequisites  \\\n",
       "0  C_584313  《资治通鉴》导读  [历史学, 中国语言文学]          None   \n",
       "0  C_584313  《资治通鉴》导读  [历史学, 中国语言文学]          None   \n",
       "0  C_584313  《资治通鉴》导读  [历史学, 中国语言文学]          None   \n",
       "0  C_584313  《资治通鉴》导读  [历史学, 中国语言文学]          None   \n",
       "0  C_584313  《资治通鉴》导读  [历史学, 中国语言文学]          None   \n",
       "\n",
       "                                            resource  rsc_count  num_fields  \\\n",
       "0  {'chapter': '1.1.1', 'resource_id': 'V_849', '...         91           2   \n",
       "0  {'chapter': '1.2.1', 'resource_id': 'V_850', '...         91           2   \n",
       "0  {'chapter': '1.3.1', 'resource_id': 'V_851', '...         91           2   \n",
       "0  {'chapter': '1.4', 'resource_id': 'Ex_856', 't...         91           2   \n",
       "0  {'chapter': '2.1.1', 'resource_id': 'V_857', '...         91           2   \n",
       "\n",
       "                                     field_en  Number of users  \n",
       "0  [History, Chinese Language and Literature]              NaN  \n",
       "0  [History, Chinese Language and Literature]              NaN  \n",
       "0  [History, Chinese Language and Literature]              NaN  \n",
       "0  [History, Chinese Language and Literature]              NaN  \n",
       "0  [History, Chinese Language and Literature]              NaN  "
      ]
     },
     "execution_count": 17,
     "metadata": {},
     "output_type": "execute_result"
    }
   ],
   "source": [
    "course_resources.head()"
   ]
  },
  {
   "cell_type": "code",
   "execution_count": 28,
   "id": "bdee4752-6352-4627-befa-eb6010fe219c",
   "metadata": {},
   "outputs": [],
   "source": [
    "def check_alternate_video_exc(x):\n",
    "    prev_is_v = None\n",
    "    for idx, row in x.iterrows():\n",
    "        if row[\"resource\"][\"resource_id\"].startswith(\"V_\"):\n",
    "            if prev_is_v:\n",
    "                return False\n",
    "            prev_is_v = True\n",
    "    return prev_is_v"
   ]
  },
  {
   "cell_type": "code",
   "execution_count": 31,
   "id": "728d8728-19a4-4a9a-b96e-643cbfc5cf2b",
   "metadata": {},
   "outputs": [],
   "source": [
    "alternating_courses = course_resources.groupby(\"id\").apply(check_alternate_video_exc)"
   ]
  },
  {
   "cell_type": "code",
   "execution_count": 36,
   "id": "aa3410b6-3a5a-4069-8b78-16cd6055d6a0",
   "metadata": {},
   "outputs": [
    {
     "data": {
      "text/plain": [
       "(57,)"
      ]
     },
     "execution_count": 36,
     "metadata": {},
     "output_type": "execute_result"
    }
   ],
   "source": [
    "np.where(alternating_courses)[0].shape"
   ]
  },
  {
   "cell_type": "code",
   "execution_count": 46,
   "id": "aecca792-fb5e-4219-b5ef-7ea12a0848d5",
   "metadata": {},
   "outputs": [],
   "source": [
    "alternating_course_info = courses_ext_df[courses_ext_df[\"id\"].isin(alternating_courses.iloc[np.where(alternating_courses)[0]].reset_index()[\"id\"])].drop(columns=\"about\")"
   ]
  },
  {
   "cell_type": "code",
   "execution_count": 53,
   "id": "2336ba7a-563b-4a04-ade3-01cac063d7da",
   "metadata": {},
   "outputs": [
    {
     "data": {
      "text/plain": [
       "(14, 9)"
      ]
     },
     "execution_count": 53,
     "metadata": {},
     "output_type": "execute_result"
    }
   ],
   "source": [
    "alternating_course_info[alternating_course_info[\"Number of users\"].notna()].shape#&alternating_course_info[\"field\"].str.len()==0].shape"
   ]
  },
  {
   "cell_type": "markdown",
   "id": "ca661077-39c3-495f-b9bd-0e6f882b262c",
   "metadata": {},
   "source": [
    "#### None of the alternating courses have a field, but they do have users\n",
    "Could be difficult to exclusively narrow down watching behaviours related to only those fields. Need to verify if video ids are unique within a course. They probably are.\n",
    "\n",
    "14 Courses with enrolled students and alternating video-exercise."
   ]
  },
  {
   "cell_type": "code",
   "execution_count": null,
   "id": "9e256f51-57df-40b1-97af-d651187d2995",
   "metadata": {},
   "outputs": [],
   "source": []
  }
 ],
 "metadata": {
  "kernelspec": {
   "display_name": "Python 3 (ipykernel)",
   "language": "python",
   "name": "python3"
  },
  "language_info": {
   "codemirror_mode": {
    "name": "ipython",
    "version": 3
   },
   "file_extension": ".py",
   "mimetype": "text/x-python",
   "name": "python",
   "nbconvert_exporter": "python",
   "pygments_lexer": "ipython3",
   "version": "3.9.5"
  }
 },
 "nbformat": 4,
 "nbformat_minor": 5
}
